{
 "cells": [
  {
   "cell_type": "code",
   "execution_count": 15,
   "id": "3d586fba-5b55-48bd-b64c-89a052c23f68",
   "metadata": {},
   "outputs": [],
   "source": [
    "import pandas as pd\n",
    "import numpy as np\n",
    "import json\n",
    "import requests\n",
    "import os"
   ]
  },
  {
   "cell_type": "code",
   "execution_count": 16,
   "id": "713728c5-dcb2-4bf1-9cdc-11364103ede5",
   "metadata": {},
   "outputs": [
    {
     "data": {
      "text/html": [
       "<div>\n",
       "<style scoped>\n",
       "    .dataframe tbody tr th:only-of-type {\n",
       "        vertical-align: middle;\n",
       "    }\n",
       "\n",
       "    .dataframe tbody tr th {\n",
       "        vertical-align: top;\n",
       "    }\n",
       "\n",
       "    .dataframe thead th {\n",
       "        text-align: right;\n",
       "    }\n",
       "</style>\n",
       "<table border=\"1\" class=\"dataframe\">\n",
       "  <thead>\n",
       "    <tr style=\"text-align: right;\">\n",
       "      <th></th>\n",
       "      <th>Unnamed: 0</th>\n",
       "      <th>url</th>\n",
       "      <th>tweet_created_at</th>\n",
       "      <th>twitter_user_id</th>\n",
       "      <th>list_id</th>\n",
       "    </tr>\n",
       "  </thead>\n",
       "  <tbody>\n",
       "    <tr>\n",
       "      <th>0</th>\n",
       "      <td>0</td>\n",
       "      <td>https://youtube.com/playlist?list=PL6BT4U83o4J...</td>\n",
       "      <td>2021-06-04 12:58:58 UTC</td>\n",
       "      <td>1.400000e+18</td>\n",
       "      <td>PL6BT4U83o4Je3TDUWwkPYazR7FY9CtySw</td>\n",
       "    </tr>\n",
       "    <tr>\n",
       "      <th>1</th>\n",
       "      <td>1</td>\n",
       "      <td>https://www.youtube.com/playlist?list=PLDVYaMO...</td>\n",
       "      <td>2018-12-14 05:27:20 UTC</td>\n",
       "      <td>1.070000e+18</td>\n",
       "      <td>PLDVYaMOAufIDGuZ2p50Q9EO5f1gNUcUIZ</td>\n",
       "    </tr>\n",
       "    <tr>\n",
       "      <th>2</th>\n",
       "      <td>2</td>\n",
       "      <td>https://www.youtube.com/playlist?list=PLEeIGZu...</td>\n",
       "      <td>2022-10-17 03:51:24 UTC</td>\n",
       "      <td>1.580000e+18</td>\n",
       "      <td>PLEeIGZuBXtsuRJRtQH2P8xUGi6AR_MN4w</td>\n",
       "    </tr>\n",
       "    <tr>\n",
       "      <th>3</th>\n",
       "      <td>3</td>\n",
       "      <td>https://www.youtube.com/playlist?list=PLhOQAKe...</td>\n",
       "      <td>2019-04-01 02:30:05 UTC</td>\n",
       "      <td>1.110000e+18</td>\n",
       "      <td>PLhOQAKeRPuGkhS5mSDgdXmFV-h9mRMf24</td>\n",
       "    </tr>\n",
       "    <tr>\n",
       "      <th>4</th>\n",
       "      <td>4</td>\n",
       "      <td>https://www.youtube.com/playlist?list=PLEeIGZu...</td>\n",
       "      <td>2022-10-20 04:51:09 UTC</td>\n",
       "      <td>1.580000e+18</td>\n",
       "      <td>PLEeIGZuBXtstpI4hORi6_exCErOMyl-9_</td>\n",
       "    </tr>\n",
       "  </tbody>\n",
       "</table>\n",
       "</div>"
      ],
      "text/plain": [
       "   Unnamed: 0                                                url  \\\n",
       "0           0  https://youtube.com/playlist?list=PL6BT4U83o4J...   \n",
       "1           1  https://www.youtube.com/playlist?list=PLDVYaMO...   \n",
       "2           2  https://www.youtube.com/playlist?list=PLEeIGZu...   \n",
       "3           3  https://www.youtube.com/playlist?list=PLhOQAKe...   \n",
       "4           4  https://www.youtube.com/playlist?list=PLEeIGZu...   \n",
       "\n",
       "          tweet_created_at  twitter_user_id  \\\n",
       "0  2021-06-04 12:58:58 UTC     1.400000e+18   \n",
       "1  2018-12-14 05:27:20 UTC     1.070000e+18   \n",
       "2  2022-10-17 03:51:24 UTC     1.580000e+18   \n",
       "3  2019-04-01 02:30:05 UTC     1.110000e+18   \n",
       "4  2022-10-20 04:51:09 UTC     1.580000e+18   \n",
       "\n",
       "                              list_id  \n",
       "0  PL6BT4U83o4Je3TDUWwkPYazR7FY9CtySw  \n",
       "1  PLDVYaMOAufIDGuZ2p50Q9EO5f1gNUcUIZ  \n",
       "2  PLEeIGZuBXtsuRJRtQH2P8xUGi6AR_MN4w  \n",
       "3  PLhOQAKeRPuGkhS5mSDgdXmFV-h9mRMf24  \n",
       "4  PLEeIGZuBXtstpI4hORi6_exCErOMyl-9_  "
      ]
     },
     "execution_count": 16,
     "metadata": {},
     "output_type": "execute_result"
    }
   ],
   "source": [
    "# load the playlists data from the csv\n",
    "playlists = pd.read_csv('playlist-clean.csv')\n",
    "playlists.head()"
   ]
  },
  {
   "cell_type": "code",
   "execution_count": 17,
   "id": "ab9ef274-4597-482e-b7e6-9d3a59cf14a1",
   "metadata": {},
   "outputs": [
    {
     "data": {
      "text/html": [
       "<div>\n",
       "<style scoped>\n",
       "    .dataframe tbody tr th:only-of-type {\n",
       "        vertical-align: middle;\n",
       "    }\n",
       "\n",
       "    .dataframe tbody tr th {\n",
       "        vertical-align: top;\n",
       "    }\n",
       "\n",
       "    .dataframe thead th {\n",
       "        text-align: right;\n",
       "    }\n",
       "</style>\n",
       "<table border=\"1\" class=\"dataframe\">\n",
       "  <thead>\n",
       "    <tr style=\"text-align: right;\">\n",
       "      <th></th>\n",
       "      <th>url</th>\n",
       "      <th>tweet_created_at</th>\n",
       "      <th>twitter_user_id</th>\n",
       "      <th>list_id</th>\n",
       "    </tr>\n",
       "  </thead>\n",
       "  <tbody>\n",
       "    <tr>\n",
       "      <th>0</th>\n",
       "      <td>https://youtube.com/playlist?list=PL6BT4U83o4J...</td>\n",
       "      <td>2021-06-04 12:58:58 UTC</td>\n",
       "      <td>1.400000e+18</td>\n",
       "      <td>PL6BT4U83o4Je3TDUWwkPYazR7FY9CtySw</td>\n",
       "    </tr>\n",
       "    <tr>\n",
       "      <th>1</th>\n",
       "      <td>https://www.youtube.com/playlist?list=PLDVYaMO...</td>\n",
       "      <td>2018-12-14 05:27:20 UTC</td>\n",
       "      <td>1.070000e+18</td>\n",
       "      <td>PLDVYaMOAufIDGuZ2p50Q9EO5f1gNUcUIZ</td>\n",
       "    </tr>\n",
       "    <tr>\n",
       "      <th>2</th>\n",
       "      <td>https://www.youtube.com/playlist?list=PLEeIGZu...</td>\n",
       "      <td>2022-10-17 03:51:24 UTC</td>\n",
       "      <td>1.580000e+18</td>\n",
       "      <td>PLEeIGZuBXtsuRJRtQH2P8xUGi6AR_MN4w</td>\n",
       "    </tr>\n",
       "    <tr>\n",
       "      <th>3</th>\n",
       "      <td>https://www.youtube.com/playlist?list=PLhOQAKe...</td>\n",
       "      <td>2019-04-01 02:30:05 UTC</td>\n",
       "      <td>1.110000e+18</td>\n",
       "      <td>PLhOQAKeRPuGkhS5mSDgdXmFV-h9mRMf24</td>\n",
       "    </tr>\n",
       "    <tr>\n",
       "      <th>4</th>\n",
       "      <td>https://www.youtube.com/playlist?list=PLEeIGZu...</td>\n",
       "      <td>2022-10-20 04:51:09 UTC</td>\n",
       "      <td>1.580000e+18</td>\n",
       "      <td>PLEeIGZuBXtstpI4hORi6_exCErOMyl-9_</td>\n",
       "    </tr>\n",
       "  </tbody>\n",
       "</table>\n",
       "</div>"
      ],
      "text/plain": [
       "                                                 url         tweet_created_at  \\\n",
       "0  https://youtube.com/playlist?list=PL6BT4U83o4J...  2021-06-04 12:58:58 UTC   \n",
       "1  https://www.youtube.com/playlist?list=PLDVYaMO...  2018-12-14 05:27:20 UTC   \n",
       "2  https://www.youtube.com/playlist?list=PLEeIGZu...  2022-10-17 03:51:24 UTC   \n",
       "3  https://www.youtube.com/playlist?list=PLhOQAKe...  2019-04-01 02:30:05 UTC   \n",
       "4  https://www.youtube.com/playlist?list=PLEeIGZu...  2022-10-20 04:51:09 UTC   \n",
       "\n",
       "   twitter_user_id                             list_id  \n",
       "0     1.400000e+18  PL6BT4U83o4Je3TDUWwkPYazR7FY9CtySw  \n",
       "1     1.070000e+18  PLDVYaMOAufIDGuZ2p50Q9EO5f1gNUcUIZ  \n",
       "2     1.580000e+18  PLEeIGZuBXtsuRJRtQH2P8xUGi6AR_MN4w  \n",
       "3     1.110000e+18  PLhOQAKeRPuGkhS5mSDgdXmFV-h9mRMf24  \n",
       "4     1.580000e+18  PLEeIGZuBXtstpI4hORi6_exCErOMyl-9_  "
      ]
     },
     "execution_count": 17,
     "metadata": {},
     "output_type": "execute_result"
    }
   ],
   "source": [
    "# Droping the extra column and renaming the twitter user id and created at column\n",
    "playlists.drop(['Unnamed: 0'], axis=1, inplace=True)\n",
    "playlists.rename(columns = {'id':'twitter_user_id', 'created_at': 'tweet_created_at'}, inplace = True)\n",
    "playlists.head()"
   ]
  },
  {
   "cell_type": "code",
   "execution_count": 18,
   "id": "0396e0f4-574e-4a5f-9769-b71324a89825",
   "metadata": {},
   "outputs": [
    {
     "data": {
      "text/plain": [
       "url                 0\n",
       "tweet_created_at    0\n",
       "twitter_user_id     0\n",
       "list_id             0\n",
       "dtype: int64"
      ]
     },
     "execution_count": 18,
     "metadata": {},
     "output_type": "execute_result"
    }
   ],
   "source": [
    "playlists.isna().sum()"
   ]
  },
  {
   "cell_type": "code",
   "execution_count": 19,
   "id": "2b2d9504-2b4c-4002-9675-160cbefe1463",
   "metadata": {},
   "outputs": [
    {
     "data": {
      "text/plain": [
       "url                 0\n",
       "tweet_created_at    0\n",
       "twitter_user_id     0\n",
       "list_id             0\n",
       "dtype: int64"
      ]
     },
     "execution_count": 19,
     "metadata": {},
     "output_type": "execute_result"
    }
   ],
   "source": [
    "playlists.isnull().sum()"
   ]
  },
  {
   "cell_type": "code",
   "execution_count": 20,
   "id": "a6b88d78-726b-4453-a72d-248edf700a15",
   "metadata": {},
   "outputs": [],
   "source": [
    "# the data is clean\n",
    "# urls_with_empty_id = playlists[playlists['list_id'].isnull() | playlists['list_id'].eq('')]['url']\n",
    "# print(urls_with_empty_id)"
   ]
  },
  {
   "cell_type": "code",
   "execution_count": 21,
   "id": "e991d4f1-4e74-4a8b-a27c-711de3bb8ce9",
   "metadata": {},
   "outputs": [],
   "source": [
    "# playlists.dropna(subset=['list_id'], inplace=True)\n",
    "# playlists"
   ]
  },
  {
   "cell_type": "code",
   "execution_count": 22,
   "id": "1a9268de-bfcb-4b13-8b09-16d26d5fbee9",
   "metadata": {},
   "outputs": [
    {
     "data": {
      "text/plain": [
       "0    PL6BT4U83o4Je3TDUWwkPYazR7FY9CtySw\n",
       "1    PLDVYaMOAufIDGuZ2p50Q9EO5f1gNUcUIZ\n",
       "2    PLEeIGZuBXtsuRJRtQH2P8xUGi6AR_MN4w\n",
       "Name: list_id, dtype: object"
      ]
     },
     "execution_count": 22,
     "metadata": {},
     "output_type": "execute_result"
    }
   ],
   "source": [
    "playlists['list_id'][0:3]"
   ]
  },
  {
   "cell_type": "code",
   "execution_count": 23,
   "id": "c08bddac-973b-48ff-ab92-b29798f06461",
   "metadata": {},
   "outputs": [
    {
     "data": {
      "text/plain": [
       "0    PL6BT4U83o4Je3TDUWwkPYazR7FY9CtySw\n",
       "Name: list_id, dtype: object"
      ]
     },
     "execution_count": 23,
     "metadata": {},
     "output_type": "execute_result"
    }
   ],
   "source": [
    "# Creating subsets of data - list_id\n",
    "ids = playlists['list_id']\n",
    "\n",
    "p1 = ids[0:1]\n",
    "p3 = ids[0:3]\n",
    "p10 = ids[0:10]\n",
    "p100 = ids[0:100]\n",
    "\n",
    "d1 = ids[0:1000]\n",
    "d2 = ids[1000:2000]\n",
    "d3 = ids[2000:3000]\n",
    "d4 = ids[3000:]\n",
    "\n",
    "p = playlists\n",
    "p1"
   ]
  },
  {
   "cell_type": "code",
   "execution_count": 66,
   "id": "36bff3cf-ef02-42ff-88f9-0bbe7a341fcd",
   "metadata": {},
   "outputs": [],
   "source": [
    "# yt data api_key\n",
    "with open('api_key.txt', 'r') as f:\n",
    "    api_key = f.read()"
   ]
  },
  {
   "cell_type": "code",
   "execution_count": 50,
   "id": "fc4c351e-c866-464f-bb21-9fa9731f4011",
   "metadata": {},
   "outputs": [],
   "source": [
    "''' Function that takes a list of playlist_ids as input and an api_key and saves all the data in a \n",
    "    playlist_data.json file. It uses a try except block for error handling and also checks for a \n",
    "    id which is already fetched making less api calls '''\n",
    "\n",
    "def fetch_playlist_videos_data(playlist_ids, api_key):\n",
    "    data_file = 'playlist_data.json'\n",
    "    all_data = {}\n",
    "\n",
    "    # Load existing data from the JSON file\n",
    "    if os.path.exists(data_file):\n",
    "        with open(data_file, 'r') as file:\n",
    "            all_data = json.load(file)\n",
    "\n",
    "    for playlist_id in playlist_ids:\n",
    "        # Check if playlist data already exists in the JSON\n",
    "        if (playlist_id in all_data) and all_data[playlist_id] != None:\n",
    "            print(f\"Playlist ID {playlist_id} data already fetched. Skipping...\")\n",
    "            continue\n",
    "\n",
    "        playlist_data = []\n",
    "        next_page_token = None\n",
    "\n",
    "        try:\n",
    "            while True:\n",
    "                url = f\"https://www.googleapis.com/youtube/v3/playlistItems?part=snippet%2CcontentDetails%2Cid&maxResults=50&playlistId={playlist_id}&key={api_key}\"\n",
    "                if next_page_token:\n",
    "                    url += f\"&pageToken={next_page_token}\"\n",
    "\n",
    "                response = requests.get(url)\n",
    "                data = json.loads(response.text)\n",
    "\n",
    "                if 'error' in data and data['error']['message'] == 'This playlist type is unviewable.':\n",
    "                    print(f\"Playlist ID {playlist_id} is unviewable. Storing null value...\")\n",
    "                    all_data[playlist_id] = None\n",
    "                    break\n",
    "\n",
    "                for item in data['items']:\n",
    "                    video_data = {}\n",
    "                    video_id = item['contentDetails']['videoId']\n",
    "                    video_data['snippet'] = item['snippet']\n",
    "                    # Add any additional data you want to include for each video\n",
    "\n",
    "                    playlist_data.append({video_id: video_data})\n",
    "\n",
    "                next_page_token = data.get('nextPageToken')\n",
    "                if not next_page_token:\n",
    "                    break\n",
    "\n",
    "        except Exception as e:\n",
    "            print(f\"Error fetching data for playlist ID {playlist_id}: {str(e)}\")\n",
    "            all_data[playlist_id] = None\n",
    "            continue\n",
    "\n",
    "        all_data[playlist_id] = playlist_data\n",
    "\n",
    "        # Save the updated data to the JSON file\n",
    "        with open(data_file, 'w') as file:\n",
    "            json.dump(all_data, file, indent=4)\n",
    "\n",
    "    return all_data\n"
   ]
  },
  {
   "cell_type": "code",
   "execution_count": 51,
   "id": "3acbc654-15ac-4d17-ab70-f68e02cb18ae",
   "metadata": {},
   "outputs": [
    {
     "name": "stdout",
     "output_type": "stream",
     "text": [
      "Playlist ID PL6BT4U83o4Je3TDUWwkPYazR7FY9CtySw data already fetched. Skipping...\n"
     ]
    },
    {
     "data": {
      "text/plain": [
       "6"
      ]
     },
     "execution_count": 51,
     "metadata": {},
     "output_type": "execute_result"
    }
   ],
   "source": [
    "# testing for 1st id - the playlist has 6 videos\n",
    "one = {}\n",
    "one = fetch_playlist_videos_data(p1, api_key=api_key)\n",
    "len(one[p1[0]])"
   ]
  },
  {
   "cell_type": "code",
   "execution_count": 52,
   "id": "e06d0277-f487-4f46-9a39-ad4e76243dee",
   "metadata": {},
   "outputs": [
    {
     "name": "stdout",
     "output_type": "stream",
     "text": [
      "Playlist ID PL6BT4U83o4Je3TDUWwkPYazR7FY9CtySw data already fetched. Skipping...\n",
      "Playlist ID PLDVYaMOAufIDGuZ2p50Q9EO5f1gNUcUIZ data already fetched. Skipping...\n",
      "Playlist ID PLEeIGZuBXtsuRJRtQH2P8xUGi6AR_MN4w data already fetched. Skipping...\n"
     ]
    }
   ],
   "source": [
    "# testing for three ids\n",
    "three = {}\n",
    "three = fetch_playlist_videos_data(p3, api_key=api_key)"
   ]
  },
  {
   "cell_type": "code",
   "execution_count": 53,
   "id": "6feba806-8597-4474-8e2f-220a30f1305a",
   "metadata": {},
   "outputs": [
    {
     "name": "stdout",
     "output_type": "stream",
     "text": [
      "Playlist ID PL6BT4U83o4Je3TDUWwkPYazR7FY9CtySw data already fetched. Skipping...\n",
      "Playlist ID PLDVYaMOAufIDGuZ2p50Q9EO5f1gNUcUIZ data already fetched. Skipping...\n",
      "Playlist ID PLEeIGZuBXtsuRJRtQH2P8xUGi6AR_MN4w data already fetched. Skipping...\n",
      "Playlist ID PLhOQAKeRPuGkhS5mSDgdXmFV-h9mRMf24 data already fetched. Skipping...\n",
      "Playlist ID PLEeIGZuBXtstpI4hORi6_exCErOMyl-9_ data already fetched. Skipping...\n",
      "Error fetching data for playlist ID OLAK5uy_lNmQS3xZB7drt-VYb_N2R3J0r0hF9LE-A: 'items'\n",
      "Error fetching data for playlist ID PLuxOyO4_YL7dJNjTiWG3YV0jKSPVQw2mC: 'items'\n",
      "Playlist ID PLtO3qLgs5z6ZKmCtEZKkZ8prFz_fyxZVH data already fetched. Skipping...\n",
      "Playlist ID OLAK5uy_k-OqjWpYJMrr50-l_9tOhdA7omj5Ce8yw data already fetched. Skipping...\n",
      "Playlist ID PLMe77kzo_oJ1tKAG07Bb3qp7HUUSoU7wd data already fetched. Skipping...\n"
     ]
    }
   ],
   "source": [
    "# testing for ten ids\n",
    "ten = {}\n",
    "ten = fetch_playlist_videos_data(p10, api_key=api_key)"
   ]
  },
  {
   "cell_type": "code",
   "execution_count": 54,
   "id": "97421d39-ebc8-4d21-b58b-4dd57bbc7342",
   "metadata": {},
   "outputs": [
    {
     "name": "stdout",
     "output_type": "stream",
     "text": [
      "Playlist ID PL6BT4U83o4Je3TDUWwkPYazR7FY9CtySw data already fetched. Skipping...\n",
      "Playlist ID PLDVYaMOAufIDGuZ2p50Q9EO5f1gNUcUIZ data already fetched. Skipping...\n",
      "Playlist ID PLEeIGZuBXtsuRJRtQH2P8xUGi6AR_MN4w data already fetched. Skipping...\n",
      "Playlist ID PLhOQAKeRPuGkhS5mSDgdXmFV-h9mRMf24 data already fetched. Skipping...\n",
      "Playlist ID PLEeIGZuBXtstpI4hORi6_exCErOMyl-9_ data already fetched. Skipping...\n",
      "Error fetching data for playlist ID OLAK5uy_lNmQS3xZB7drt-VYb_N2R3J0r0hF9LE-A: 'items'\n",
      "Error fetching data for playlist ID PLuxOyO4_YL7dJNjTiWG3YV0jKSPVQw2mC: 'items'\n",
      "Playlist ID PLtO3qLgs5z6ZKmCtEZKkZ8prFz_fyxZVH data already fetched. Skipping...\n",
      "Playlist ID OLAK5uy_k-OqjWpYJMrr50-l_9tOhdA7omj5Ce8yw data already fetched. Skipping...\n",
      "Playlist ID PLMe77kzo_oJ1tKAG07Bb3qp7HUUSoU7wd data already fetched. Skipping...\n",
      "Playlist ID PL_s0J6qvOS_gtLDqmtBg2MDfWez4L2SmQ data already fetched. Skipping...\n",
      "Playlist ID PLG7EoBMUD1JwbD5-MQpFRGvadGWtf-4yD data already fetched. Skipping...\n",
      "Playlist ID PLV47zB4q7-AiPEh1Q8n4zBIlUnViV92bN data already fetched. Skipping...\n",
      "Playlist ID PLYwyQIeprjCQJ0rIhHuIXuedsobXjUVT_ data already fetched. Skipping...\n",
      "Playlist ID PLQ5wnjvZwJsNwUCbMFP2otnvC8ZbwptNt data already fetched. Skipping...\n",
      "Playlist ID PLSLFBNANfRzbxzVcXTnJdTfBMIKX39Btw data already fetched. Skipping...\n",
      "Playlist ID PLrA_xjeV3tDh0F3ZcrhZIoyJ0Pv36LKHQ data already fetched. Skipping...\n",
      "Playlist ID PLbssOJyyvHuWJXJL2_N1ATR8iS_jpR_iX data already fetched. Skipping...\n",
      "Error fetching data for playlist ID RDp_ZQwfcBT_A: 'items'\n",
      "Playlist ID RDSPDyF04DyOQ data already fetched. Skipping...\n",
      "Playlist ID PLx9ifbhHf6JnqhdIr0Vjo-KoUFK6y7Syz data already fetched. Skipping...\n",
      "Playlist ID PLIf2-VYrW7HGYF1MGMSt6hdvCjSPpdjn- data already fetched. Skipping...\n",
      "Error fetching data for playlist ID PL22J3VaeABQC6oShltYc6rMUDAGJ7_G5e: 'items'\n",
      "Error fetching data for playlist ID PLHskeNSWVhbXCU-gdcDUZ6mcHGDk4XkPp: 'items'\n",
      "Error fetching data for playlist ID PLpcouECH0Gx7ahhvWFymhW4O9eMQ9dL5k: 'items'\n",
      "Playlist ID PLNIOxG0xOQU9XoNMvdkjqfZlekitBNEsC data already fetched. Skipping...\n",
      "Playlist ID PLgV6I4aKoKelrjScqZQgr97cS4m0a9Ro1 data already fetched. Skipping...\n",
      "Playlist ID PLGVSKByrYzstnb7NVcocWBI6qrV2me254 data already fetched. Skipping...\n",
      "Playlist ID PLYqI69yazKmLHYG0cBfDqVA4sV-0Mvhwy data already fetched. Skipping...\n",
      "Playlist ID PLETJvXdgg6D_KXOMdDZ85U3lq2hbzBNPH data already fetched. Skipping...\n",
      "Playlist ID PLwZtBKjGSMzU9pHkutdCMZwZhEhyk_ol6 data already fetched. Skipping...\n",
      "Error fetching data for playlist ID PLuxOyO4_YL7dJNjTiWG3YV0jKSPVQw2mC: 'items'\n",
      "Playlist ID PLeLGx0BaYD6Zr_3ReRhyZHLoO35uEVmcJ data already fetched. Skipping...\n",
      "Playlist ID PLlNdduOe1pp2Bs3lS-25MzSPxUmWkh1sn data already fetched. Skipping...\n",
      "Playlist ID PLlNdduOe1pp2hCg_Et8dfBVG6RlV7EHDx data already fetched. Skipping...\n",
      "Playlist ID OLAK5uy_nHGTpSJUV5qxEhNAfZOBZmEUXOf3EA6ow data already fetched. Skipping...\n",
      "Playlist ID PLoiNH55JJv0GtldqNKHTvDh7LNytzz51Q data already fetched. Skipping...\n",
      "Playlist ID PLMe77kzo_oJ1tKAG07Bb3qp7HUUSoU7wd data already fetched. Skipping...\n",
      "Playlist ID PLbl5wiuCu0oudxqKUYcLCi2VzmYaoW72C data already fetched. Skipping...\n",
      "Playlist ID PLDf1arPvrdyxG__MV12mr340zTsNcUZrh data already fetched. Skipping...\n",
      "Playlist ID PL82jqBRa-sbDPGJJOQ9_eWlCie_yWJqE- data already fetched. Skipping...\n",
      "Error fetching data for playlist ID RDY9PFjhbpipc: 'items'\n",
      "Playlist ID PL8QOkBpBJYsZAJnBGtikjUCepX586Ss8d data already fetched. Skipping...\n",
      "Error fetching data for playlist ID RD-mAKYa3yu0g: 'items'\n",
      "Error fetching data for playlist ID PLuxOyO4_YL7cl0S7k0glLcI9sBRGOzs_p: 'items'\n",
      "Playlist ID PLkIV2DY_ZM2fab15duysCy08awt56cx1x data already fetched. Skipping...\n",
      "Playlist ID PLb1Dbi8YKgEbSAcNs45BNe6ESYWoR7tYk data already fetched. Skipping...\n",
      "Playlist ID PL_DCsvsqx5p4EW8W5vAu9L0HcZbjY7bts data already fetched. Skipping...\n",
      "Playlist ID OLAK5uy_nGf6pYQvwSTKtXSUp1oA06O0_nsmQo4q4 data already fetched. Skipping...\n",
      "Playlist ID PL9lvYidFAAhVjjYngFAKFUVZxRD-du87p data already fetched. Skipping...\n",
      "Error fetching data for playlist ID PLKG2bf2iksPrEv2fgFNmfDk_UgaY92Zm0: 'items'\n",
      "Playlist ID PLYgn6wkqGHIYWj2p5qD-NvPRmavqkYQ75 data already fetched. Skipping...\n",
      "Playlist ID PLNqBoZyIbe4lmSlNjM0npPHijTYKsaPAO data already fetched. Skipping...\n",
      "Playlist ID PLEeIGZuBXtstIrcY6jpHzB_SJussUSSAn data already fetched. Skipping...\n",
      "Playlist ID PLvsYXqtYjMYdnFAD77W56tkWtTQUwIFRA data already fetched. Skipping...\n",
      "Error fetching data for playlist ID PLieBmJXd4EnAdPrdYyRsQ4oV8zqmHrwRm: 'items'\n",
      "Error fetching data for playlist ID PLieBmJXd4EnAdPrdYyRsQ4oV8zqmHrwRm: 'items'\n",
      "Playlist ID PLMe77kzo_oJ37FeCX8bp0SR4q1YDQn0Ut data already fetched. Skipping...\n",
      "Error fetching data for playlist ID PL7WuOfC7AFSxIskBPpmrA-Ns4NRjFBqiQ: 'items'\n",
      "Playlist ID OLAK5uy_lOrG-x-1vJMCiq9UFUNukZxxpQF3uxvbI data already fetched. Skipping...\n",
      "Playlist ID PLOTK54q5K4IMYju19e89nzQnzjKeVNPWH data already fetched. Skipping...\n",
      "Playlist ID PLRNsqJKPXrnnuZgEChv-1fgEwbjESzzK0 data already fetched. Skipping...\n",
      "Playlist ID PLzFNGS7Rcf-NQHlzyeN_TL_xsvKThT7hz data already fetched. Skipping...\n",
      "Error fetching data for playlist ID PLD9D50924B5301E95: 'items'\n",
      "Playlist ID OLAK5uy_mNKnzt2v1jUBZnN1877F9970jYibXM9YQ data already fetched. Skipping...\n",
      "Playlist ID PL-GdGvYVjHDBsk3KU4LLJhwF-NRSQU2ng data already fetched. Skipping...\n",
      "Playlist ID PL324F104A39F16841 data already fetched. Skipping...\n",
      "Playlist ID PLf_5VBk2jH792EybP3uwqQVzbbY-zTyYB data already fetched. Skipping...\n",
      "Playlist ID PLhOQAKeRPuGkhS5mSDgdXmFV-h9mRMf24 data already fetched. Skipping...\n",
      "Error fetching data for playlist ID RDJb15vFuw6xA: 'items'\n",
      "Error fetching data for playlist ID OLAK5uy_lGXW0aofOl-_6fh_hX9ZLQEnKneJs0qoA: 'items'\n",
      "Error fetching data for playlist ID PLMe77kzo_oJ1Pz8lcgq_bedGK-C9u-at1: 'items'\n",
      "Error fetching data for playlist ID PL-ujIE4tLGbEv2nmpcjaLxOtTb6hWle_C: 'items'\n",
      "Error fetching data for playlist ID PLTplBPPoWdX2dsFq7tcFw9xPNqn8JMp9k: 'items'\n",
      "Error fetching data for playlist ID UUqH_xse717F6_W3U5MZOZhQ: 'items'\n",
      "Error fetching data for playlist ID PLGxYMgBcfMmqzcW49Lrp0Nlh4IgNMIpr9: 'items'\n",
      "Error fetching data for playlist ID UUqH_xse717F6_W3U5MZOZhQ: 'items'\n",
      "Error fetching data for playlist ID OLAK5uy_kK6XKS4P27sPw1-txp0Hdh2L-9S5M7HoM: 'items'\n",
      "Error fetching data for playlist ID PLzt9cBFpA-06vBAIFNdPWFH-d4JC9PBwW: 'items'\n",
      "Error fetching data for playlist ID RD4DF8LCgiWAk: 'items'\n",
      "Playlist ID OLAK5uy_kNhfW3jS82ncnUs5VsvSZDulk-9BWQRZc data already fetched. Skipping...\n",
      "Error fetching data for playlist ID PLQ2XHcwJDoGPOeDn9sQ8Q910iPwgzc_8X: 'items'\n",
      "Error fetching data for playlist ID PL4GxhQfhgMEHjPnKY818MxYuAcXRIj9oC: 'items'\n",
      "Error fetching data for playlist ID PLhxITUni9OWes4XXblfTGR0RcbKgoGGKB: 'items'\n",
      "Error fetching data for playlist ID PLHKEMR7Ly5naYB7NfVT1haeMStP0m25VG: 'items'\n",
      "Playlist ID PLhG3wSXyM202dSV4QTZaNLZqsl38OiG1h data already fetched. Skipping...\n",
      "Error fetching data for playlist ID PLfTxoVH9AKbm_F45xTSSZOYTjDp85BqH-: 'items'\n",
      "Playlist ID PLxZTDtM0aQpgSfdJNndg3-dhprO9B0K9q data already fetched. Skipping...\n",
      "Playlist ID PLiz4LOIjGu_mUYGwhwX7XEPsVGFAh8FtD data already fetched. Skipping...\n",
      "Playlist ID PLhOQAKeRPuGkhS5mSDgdXmFV-h9mRMf24 data already fetched. Skipping...\n",
      "Error fetching data for playlist ID PLeTR5AcHfiUbGmDGFIsGvFDXi4JW1BSVV: 'items'\n",
      "Error fetching data for playlist ID PLupweltXgvuxqTWcrdauEiGdU3TRdFKZA: 'items'\n",
      "Error fetching data for playlist ID LLrKSZhl51tpgsmNVbzxpWnQ: 'items'\n",
      "Error fetching data for playlist ID PLZOcDPvKrp82NJe5zzUnQyPK_8ECKrt8h: 'items'\n",
      "Playlist ID PLgV6I4aKoKelrjScqZQgr97cS4m0a9Ro1 data already fetched. Skipping...\n",
      "Error fetching data for playlist ID PLNdnrJ0WHYVaziwFvcHuqgIupMhNa7fKE: 'items'\n"
     ]
    },
    {
     "data": {
      "text/plain": [
       "93"
      ]
     },
     "execution_count": 54,
     "metadata": {},
     "output_type": "execute_result"
    }
   ],
   "source": [
    "# testing for 100 ids - the playlists have\n",
    "hund = {}\n",
    "hund = fetch_playlist_videos_data(p100, api_key=api_key)\n",
    "len(hund)"
   ]
  },
  {
   "cell_type": "code",
   "execution_count": 40,
   "id": "98fe0cf2-75eb-4d31-aa28-72fa9c083899",
   "metadata": {},
   "outputs": [
    {
     "data": {
      "text/plain": [
       "93"
      ]
     },
     "execution_count": 40,
     "metadata": {},
     "output_type": "execute_result"
    }
   ],
   "source": [
    "len(hund)"
   ]
  },
  {
   "cell_type": "code",
   "execution_count": 56,
   "id": "7b17ad45-b224-474f-8fb9-b97cabaf9723",
   "metadata": {},
   "outputs": [
    {
     "data": {
      "text/plain": [
       "['OLAK5uy_lNmQS3xZB7drt-VYb_N2R3J0r0hF9LE-A',\n",
       " 'PLuxOyO4_YL7dJNjTiWG3YV0jKSPVQw2mC',\n",
       " 'RDp_ZQwfcBT_A',\n",
       " 'PL22J3VaeABQC6oShltYc6rMUDAGJ7_G5e',\n",
       " 'PLHskeNSWVhbXCU-gdcDUZ6mcHGDk4XkPp',\n",
       " 'PLpcouECH0Gx7ahhvWFymhW4O9eMQ9dL5k',\n",
       " 'RDY9PFjhbpipc',\n",
       " 'RD-mAKYa3yu0g',\n",
       " 'PLuxOyO4_YL7cl0S7k0glLcI9sBRGOzs_p',\n",
       " 'PLKG2bf2iksPrEv2fgFNmfDk_UgaY92Zm0',\n",
       " 'PLieBmJXd4EnAdPrdYyRsQ4oV8zqmHrwRm',\n",
       " 'PL7WuOfC7AFSxIskBPpmrA-Ns4NRjFBqiQ',\n",
       " 'PLD9D50924B5301E95',\n",
       " 'RDJb15vFuw6xA',\n",
       " 'OLAK5uy_lGXW0aofOl-_6fh_hX9ZLQEnKneJs0qoA',\n",
       " 'PLMe77kzo_oJ1Pz8lcgq_bedGK-C9u-at1',\n",
       " 'PL-ujIE4tLGbEv2nmpcjaLxOtTb6hWle_C',\n",
       " 'PLuyu8cy367LdmSAoHibh2oVmfINV94Lp5',\n",
       " 'PLTplBPPoWdX2dsFq7tcFw9xPNqn8JMp9k',\n",
       " 'UUqH_xse717F6_W3U5MZOZhQ',\n",
       " 'PLGxYMgBcfMmqzcW49Lrp0Nlh4IgNMIpr9',\n",
       " 'OLAK5uy_kK6XKS4P27sPw1-txp0Hdh2L-9S5M7HoM',\n",
       " 'PLzt9cBFpA-06vBAIFNdPWFH-d4JC9PBwW',\n",
       " 'RD4DF8LCgiWAk',\n",
       " 'PLQ2XHcwJDoGPOeDn9sQ8Q910iPwgzc_8X',\n",
       " 'PL4GxhQfhgMEHjPnKY818MxYuAcXRIj9oC',\n",
       " 'PLhxITUni9OWes4XXblfTGR0RcbKgoGGKB',\n",
       " 'PLHKEMR7Ly5naYB7NfVT1haeMStP0m25VG',\n",
       " 'PL8Ia5e5Q_mteAWSIPKp51RKY9b044BNWF',\n",
       " 'PLfTxoVH9AKbm_F45xTSSZOYTjDp85BqH-',\n",
       " 'PLlCv5zSi--bkyyzdd8YIMv20pLYVWSPYS',\n",
       " 'PLEeIGZuBXtsumYtiyugOVwdmddATgvJMZ']"
      ]
     },
     "execution_count": 56,
     "metadata": {},
     "output_type": "execute_result"
    }
   ],
   "source": [
    "# Refetching the Null List because there are playlists which have videos but are not fetched\n",
    "null_list = [id for id in all_data.keys() if all_data[id] == None]\n",
    "null_list"
   ]
  },
  {
   "cell_type": "code",
   "execution_count": 57,
   "id": "886ceb47-2c90-4e4d-ac63-d063fa5de530",
   "metadata": {},
   "outputs": [
    {
     "data": {
      "text/plain": [
       "32"
      ]
     },
     "execution_count": 57,
     "metadata": {},
     "output_type": "execute_result"
    }
   ],
   "source": [
    "len(null_list)"
   ]
  },
  {
   "cell_type": "code",
   "execution_count": 58,
   "id": "c546a92c-3813-4258-947a-756b2bb28a2c",
   "metadata": {},
   "outputs": [
    {
     "name": "stdout",
     "output_type": "stream",
     "text": [
      "Error fetching data for playlist ID OLAK5uy_lNmQS3xZB7drt-VYb_N2R3J0r0hF9LE-A: 'items'\n",
      "Error fetching data for playlist ID PLuxOyO4_YL7dJNjTiWG3YV0jKSPVQw2mC: 'items'\n",
      "Error fetching data for playlist ID RDp_ZQwfcBT_A: 'items'\n",
      "Error fetching data for playlist ID PL22J3VaeABQC6oShltYc6rMUDAGJ7_G5e: 'items'\n",
      "Error fetching data for playlist ID PLHskeNSWVhbXCU-gdcDUZ6mcHGDk4XkPp: 'items'\n",
      "Error fetching data for playlist ID PLpcouECH0Gx7ahhvWFymhW4O9eMQ9dL5k: 'items'\n",
      "Error fetching data for playlist ID RDY9PFjhbpipc: 'items'\n",
      "Error fetching data for playlist ID RD-mAKYa3yu0g: 'items'\n",
      "Error fetching data for playlist ID PLuxOyO4_YL7cl0S7k0glLcI9sBRGOzs_p: 'items'\n",
      "Error fetching data for playlist ID PLKG2bf2iksPrEv2fgFNmfDk_UgaY92Zm0: 'items'\n",
      "Error fetching data for playlist ID PLieBmJXd4EnAdPrdYyRsQ4oV8zqmHrwRm: 'items'\n",
      "Error fetching data for playlist ID PL7WuOfC7AFSxIskBPpmrA-Ns4NRjFBqiQ: 'items'\n",
      "Error fetching data for playlist ID PLD9D50924B5301E95: 'items'\n",
      "Error fetching data for playlist ID RDJb15vFuw6xA: 'items'\n",
      "Error fetching data for playlist ID OLAK5uy_lGXW0aofOl-_6fh_hX9ZLQEnKneJs0qoA: 'items'\n",
      "Error fetching data for playlist ID PLMe77kzo_oJ1Pz8lcgq_bedGK-C9u-at1: 'items'\n",
      "Playlist ID PLuyu8cy367LdmSAoHibh2oVmfINV94Lp5 data already fetched. Skipping...\n",
      "Error fetching data for playlist ID PLTplBPPoWdX2dsFq7tcFw9xPNqn8JMp9k: 'items'\n",
      "Error fetching data for playlist ID UUqH_xse717F6_W3U5MZOZhQ: 'items'\n",
      "Error fetching data for playlist ID OLAK5uy_kK6XKS4P27sPw1-txp0Hdh2L-9S5M7HoM: 'items'\n",
      "Error fetching data for playlist ID PLzt9cBFpA-06vBAIFNdPWFH-d4JC9PBwW: 'items'\n",
      "Error fetching data for playlist ID RD4DF8LCgiWAk: 'items'\n",
      "Error fetching data for playlist ID PLQ2XHcwJDoGPOeDn9sQ8Q910iPwgzc_8X: 'items'\n",
      "Error fetching data for playlist ID PL4GxhQfhgMEHjPnKY818MxYuAcXRIj9oC: 'items'\n",
      "Error fetching data for playlist ID PLhxITUni9OWes4XXblfTGR0RcbKgoGGKB: 'items'\n",
      "Error fetching data for playlist ID PLHKEMR7Ly5naYB7NfVT1haeMStP0m25VG: 'items'\n",
      "Playlist ID PL8Ia5e5Q_mteAWSIPKp51RKY9b044BNWF data already fetched. Skipping...\n",
      "Error fetching data for playlist ID PLfTxoVH9AKbm_F45xTSSZOYTjDp85BqH-: 'items'\n",
      "Playlist ID PLlCv5zSi--bkyyzdd8YIMv20pLYVWSPYS data already fetched. Skipping...\n",
      "Playlist ID PLEeIGZuBXtsumYtiyugOVwdmddATgvJMZ data already fetched. Skipping...\n"
     ]
    }
   ],
   "source": [
    "null_list_data = {}\n",
    "null_list_data = fetch_playlist_videos_data(null_list, api_key=api_key)"
   ]
  },
  {
   "cell_type": "code",
   "execution_count": 60,
   "id": "00eab9f3-ef6e-4f33-bf90-f5f1e67b1854",
   "metadata": {},
   "outputs": [],
   "source": [
    "# To fetch the data from teh aove 32 videos we need an authorization token\n",
    "headers = {\n",
    "    'Authorization': 'YOUR_AUTH_HEADER',\n",
    "    'Content-Type': 'application/json'\n",
    "}\n",
    "# response = requests.get(url, headers=headers)\n",
    "# data = json.loads(response.text)"
   ]
  },
  {
   "cell_type": "code",
   "execution_count": 62,
   "id": "cf25ba56-2583-4748-8790-4bcea1fa567f",
   "metadata": {},
   "outputs": [],
   "source": [
    "# this script is written to change/replace all the empty lists [] by None\n",
    "\n",
    "# data_file = 'playlist_data.json'\n",
    "# all_data = {}\n",
    "\n",
    "# # Load existing data from the JSON file\n",
    "# if os.path.exists(data_file):\n",
    "#     with open(data_file, 'r') as file:\n",
    "#         all_data = json.load(file)\n",
    "# print('Read File')\n",
    "\n",
    "# for id in all_data.keys():\n",
    "#     if all_data[id] == []:\n",
    "#         all_data[id] = None\n",
    "# print('changes made')\n",
    "\n",
    "# with open(data_file, 'w') as file:\n",
    "#     json.dump(all_data, file, indent=4)\n",
    "# print('write done')"
   ]
  },
  {
   "cell_type": "code",
   "execution_count": null,
   "id": "f88e6442-7927-4ca5-80f2-53390b0204fc",
   "metadata": {},
   "outputs": [],
   "source": []
  }
 ],
 "metadata": {
  "environment": {
   "kernel": "python3",
   "name": "common-cpu.m108",
   "type": "gcloud",
   "uri": "gcr.io/deeplearning-platform-release/base-cpu:m108"
  },
  "kernelspec": {
   "display_name": "Python 3",
   "language": "python",
   "name": "python3"
  },
  "language_info": {
   "codemirror_mode": {
    "name": "ipython",
    "version": 3
   },
   "file_extension": ".py",
   "mimetype": "text/x-python",
   "name": "python",
   "nbconvert_exporter": "python",
   "pygments_lexer": "ipython3",
   "version": "3.10.10"
  }
 },
 "nbformat": 4,
 "nbformat_minor": 5
}
